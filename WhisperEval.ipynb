{
  "cells": [
    {
      "cell_type": "markdown",
      "metadata": {
        "id": "OlDGSwKus79-"
      },
      "source": [
        "[Whisper](https://openai.com/blog/whisper/) is an automatic speech recognition (ASR) system trained on 680,000 hours of multilingual and multitask supervised data collected from the web. \n",
        "\n",
        "It enables transcription in multiple languages, as well as translation from those languages into English. \n",
        "\n",
        "This notebook provides an easy to use interface to evaluate Whisper on audio recordings of text passages sampled from Hugging Face Datasets. \n",
        "\n",
        "The notebook sets up a Gradio UI that allows the user to: \n",
        "\n",
        "1. Sample text passages from any Dataset hosted on the Hugging Face Hub\n",
        "2. Record an audio snippet narrating the text, \n",
        "3. Transcribe the audio with Whisper\n",
        "4. Save the audio, transcribed and reference text, and word error rate to [Comet](https://www.comet.com/site/?utm_source=colab&utm_medium=referral&utm_campaign=AMS_US_EN_SNUP_Online_WhisperAI_Notebook) for further evaluation and analysis. "
      ]
    },
    {
      "cell_type": "markdown",
      "metadata": {
        "id": "LpBOXgXeupdS"
      },
      "source": [
        "# ⚙️ Setup"
      ]
    },
    {
      "cell_type": "code",
      "execution_count": null,
      "metadata": {
        "id": "i9m_CkkkZPFg"
      },
      "outputs": [],
      "source": [
        "!pip install transformers datasets evaluate comet_ml gradio jiwer --quiet\n",
        "!pip install git+https://github.com/openai/whisper.git --quiet"
      ]
    },
    {
      "cell_type": "markdown",
      "metadata": {
        "id": "nKV8EB07uyH1"
      },
      "source": [
        "# ☄️ Initalize Comet"
      ]
    },
    {
      "cell_type": "code",
      "execution_count": null,
      "metadata": {
        "id": "8GfkG9-FaS4V",
        "cellView": "form"
      },
      "outputs": [],
      "source": [
        "#@title Set Comet Credentials\n",
        "\n",
        "import comet_ml\n",
        "comet_ml.init(project_name='evalwhisper')"
      ]
    },
    {
      "cell_type": "markdown",
      "metadata": {
        "id": "qlsNoGVOHtXM"
      },
      "source": [
        "# Configure Whisper"
      ]
    },
    {
      "cell_type": "code",
      "execution_count": null,
      "metadata": {
        "cellView": "form",
        "id": "RBPHxdUpHvFc"
      },
      "outputs": [],
      "source": [
        "whisper_language = 'english' #@param {type:\"string\"}\n",
        "model_type = 'tiny' #@param [\"tiny\", \"base\", \"small\", \"medium\", \"large\"]\n",
        "beam_size = 5 #@param {type: \"integer\"}\n",
        "best_of = 5 #@param {type: \"integer\"}\n",
        "\n",
        "whisper_options = dict(language=whisper_language, beam_size=beam_size, best_of=best_of)\n",
        "transcribe_options = dict(task=\"transcribe\", **whisper_options)"
      ]
    },
    {
      "cell_type": "markdown",
      "metadata": {
        "id": "FSj9niH09meP"
      },
      "source": [
        "# 🎤 Start App"
      ]
    },
    {
      "cell_type": "code",
      "execution_count": null,
      "metadata": {
        "cellView": "form",
        "id": "8pxpM4OQWjja"
      },
      "outputs": [],
      "source": [
        "# @title Run Whisper Evaluation\n",
        "import os\n",
        "import random\n",
        "\n",
        "import gradio as gr\n",
        "import whisper\n",
        "from datasets import load_dataset\n",
        "from evaluate import load\n",
        "\n",
        "demo = gr.Blocks()\n",
        "\n",
        "model = whisper.load_model(model_type)\n",
        "wer = load(\"wer\")\n",
        "\n",
        "\n",
        "def sample_text(dataset_name, subset=None, split=\"train\", column=\"text\", seed=42):\n",
        "    seed = int(seed) if seed else random.randint(0, 1000000)\n",
        "    if len(subset) != 0:\n",
        "        dataset = load_dataset(dataset_name, subset, split=split, streaming=True)\n",
        "    else:\n",
        "        dataset = load_dataset(dataset_name, split=split, streaming=True)\n",
        "    shuffled_dataset = dataset.shuffle(seed=seed)\n",
        "    sample = shuffled_dataset.take(1)\n",
        "    sample = list(sample)\n",
        "    return sample[0][column], seed\n",
        "\n",
        "\n",
        "def transcribe(dataset_name, subset, split, column, sampled_text, audio_input, seed):\n",
        "    experiment = comet_ml.Experiment(log_code=False)\n",
        "\n",
        "    experiment.log_parameters(whisper_options)\n",
        "    experiment.log_parameters({\"model_type\": model_type})\n",
        "\n",
        "    result = model.transcribe(audio=audio_input, **transcribe_options)\n",
        "    wer_score = wer.compute(predictions=[result[\"text\"]], references=[sampled_text])\n",
        "\n",
        "    experiment.log_metrics({\"wer\": wer_score})\n",
        "    experiment.log_text(sampled_text, metadata={\"context\": \"reference text\"})\n",
        "    experiment.log_text(result[\"text\"], metadata={\"context\": \"transcription\"})\n",
        "    experiment.log_parameters(\n",
        "        {\n",
        "            \"dataset_name\": dataset_name,\n",
        "            \"subset\": subset,\n",
        "            \"split\": split,\n",
        "            \"column\": column,\n",
        "            \"detected_language\": result[\"language\"],\n",
        "            \"sample_text_length\": len(sampled_text),\n",
        "            \"seed\": int(seed),\n",
        "        }\n",
        "    )\n",
        "\n",
        "    experiment.log_audio(audio_input)\n",
        "    experiment.end()\n",
        "    return result[\"text\"]\n",
        "\n",
        "\n",
        "with demo:\n",
        "    with gr.Row():\n",
        "        dataset_name = gr.Textbox(label=\"Dataset Name\")\n",
        "        subset = gr.Textbox(label=\"Subset Name\")\n",
        "        split = gr.Textbox(label=\"Dataset Split\")\n",
        "        column = gr.Textbox(label=\"Dataset Text Column\")\n",
        "        seed = gr.Number(value=42, label=\"Seed\")\n",
        "\n",
        "    with gr.Row():\n",
        "        sampled_text = gr.Textbox(label=\"Sampled Text\")\n",
        "    with gr.Row():\n",
        "        sample_text_btn = gr.Button(label=\"Sample Text\", value=\"Sample Text\")\n",
        "        sample_seed = gr.Variable(visible=False)\n",
        "        sample_text_btn.click(\n",
        "            sample_text,\n",
        "            [dataset_name, subset, split, column, seed],\n",
        "            [sampled_text, sample_seed],\n",
        "        )\n",
        "\n",
        "    with gr.Row():\n",
        "        audio_input = gr.Audio(source=\"microphone\", type=\"filepath\")\n",
        "    with gr.Row():\n",
        "        transcription = gr.Textbox(label=\"Output Text\")\n",
        "    with gr.Row():\n",
        "        transcribe_btn = gr.Button(value=\"Transcribe\", variant=\"primary\")\n",
        "        transcribe_btn.click(\n",
        "            transcribe,\n",
        "            [\n",
        "                dataset_name,\n",
        "                subset,\n",
        "                split,\n",
        "                column,\n",
        "                sampled_text,\n",
        "                audio_input,\n",
        "                sample_seed,\n",
        "            ],\n",
        "            [transcription],\n",
        "        )\n",
        "    gr.Examples(\n",
        "        [\n",
        "            [\"wikitext\", \"wikitext-2-v1\", \"test\", \"text\", 42],\n",
        "            [\"anli\", \"\", \"test_r1\", \"premise\", 123],\n",
        "            [\"quartz\", \"\", \"test\", \"para\", 7],\n",
        "            [\"sciq\", \"\", \"test\", \"support\", 12000],\n",
        "        ],\n",
        "        [dataset_name, subset, split, column, seed],\n",
        "        [],\n",
        "    )\n",
        "\n",
        "demo.launch(debug=True)\n"
      ]
    },
    {
      "cell_type": "code",
      "execution_count": null,
      "metadata": {
        "id": "t_qkJA0j6mLJ"
      },
      "outputs": [],
      "source": []
    }
  ],
  "metadata": {
    "accelerator": "GPU",
    "colab": {
      "collapsed_sections": [
        "LpBOXgXeupdS"
      ],
      "provenance": []
    },
    "gpuClass": "standard",
    "kernelspec": {
      "display_name": "Python 3",
      "name": "python3"
    },
    "language_info": {
      "name": "python"
    }
  },
  "nbformat": 4,
  "nbformat_minor": 0
}